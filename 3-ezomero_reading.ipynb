{
 "cells": [
  {
   "cell_type": "markdown",
   "metadata": {},
   "source": [
    "OK, now we will start looking at the things we have created. This is, of course, just an example. If you have more things in your OMERO server, feel free to look at the things you're interested in!"
   ]
  },
  {
   "cell_type": "markdown",
   "metadata": {},
   "source": [
    "Let's start with where we ended in the introduction section - retrieving the pixels of an image and plotting them. Here, we are plotting only the first timepoint/channel/slice of a 5d image. Pick any image ID in your server! Also, make sure you have your imports in place and a fresh connection."
   ]
  },
  {
   "cell_type": "code",
   "execution_count": null,
   "metadata": {},
   "outputs": [],
   "source": [
    "from config import OMEROUSER, OMEROPASS, OMEROHOST, OMEROPORT\n",
    "import matplotlib.pyplot as plt\n",
    "import ezomero\n",
    "\n",
    "conn = ezomero.connect(OMEROUSER, OMEROPASS, \"\", host=OMEROHOST, port=OMEROPORT, secure=True)"
   ]
  },
  {
   "cell_type": "code",
   "execution_count": null,
   "metadata": {},
   "outputs": [],
   "source": [
    "image_id = YOUR_IMAGE_ID_HERE\n",
    "img, pix = ezomero.get_image(conn, image_id, xyzct=True)\n",
    "print(pix.shape)\n",
    "plt.imshow(pix[:,:,0,0,0].T)"
   ]
  },
  {
   "cell_type": "markdown",
   "metadata": {},
   "source": [
    "That's nice, but how do you get an image id to begin with? Let's start from the top. "
   ]
  },
  {
   "cell_type": "code",
   "execution_count": null,
   "metadata": {},
   "outputs": [],
   "source": [
    "ezomero.print_projects(conn)"
   ]
  },
  {
   "cell_type": "markdown",
   "metadata": {},
   "source": [
    "This will list all projects you have access to. Pick a project where you know you have at least one image:"
   ]
  },
  {
   "cell_type": "code",
   "execution_count": null,
   "metadata": {},
   "outputs": [],
   "source": [
    "proj_id = YOUR_PROJECT_ID_HERE"
   ]
  },
  {
   "cell_type": "markdown",
   "metadata": {},
   "source": [
    "Now, we can list all datasets inside that project (this is the one bit where we don't have good ezomero code yet - a good first project if you want to get involved with developing it!):"
   ]
  },
  {
   "cell_type": "code",
   "execution_count": null,
   "metadata": {},
   "outputs": [],
   "source": [
    "proj = conn.getObject(\"Project\", proj_id)\n",
    "for ds in proj.listChildren():\n",
    "    print(ds.getId())"
   ]
  },
  {
   "cell_type": "markdown",
   "metadata": {},
   "source": [
    "Similarly, now you can pick a dataset id that contains at least one image and go from there:"
   ]
  },
  {
   "cell_type": "code",
   "execution_count": null,
   "metadata": {},
   "outputs": [],
   "source": [
    "dataset_id = YOUR_DATASET_ID_HERE\n",
    "id_list = ezomero.get_image_ids(conn, dataset_id)\n",
    "print(id_list)"
   ]
  },
  {
   "cell_type": "markdown",
   "metadata": {},
   "source": [
    "There we go - a list of image IDs inside a given dataset inside a given project! Of course, you couse easily write code to loop over all images in all datasets in a project, for example.\n",
    "\n",
    "You can also loop over all map annotations (i.e. key-value pairs)  in an image. "
   ]
  },
  {
   "cell_type": "code",
   "execution_count": null,
   "metadata": {},
   "outputs": [],
   "source": [
    "image_id = id_list[0]\n",
    "ann_ids = ezomero.get_map_annotation_ids(conn, 'Image', image_id)\n",
    "print(ann_ids)"
   ]
  },
  {
   "cell_type": "markdown",
   "metadata": {},
   "source": [
    "And then it's easy to print individual map annotations when you have their id."
   ]
  },
  {
   "cell_type": "code",
   "execution_count": null,
   "metadata": {},
   "outputs": [],
   "source": [
    "ezomero.print_map_annotation(conn, ann_ids[0])"
   ]
  },
  {
   "cell_type": "markdown",
   "metadata": {},
   "source": [
    "You can retrieve group ID and user ID by name using these helpful functions. These can be very handy in case you have a user that belongs to multiple groups, for example, and you need to switch between them."
   ]
  },
  {
   "cell_type": "code",
   "execution_count": null,
   "metadata": {},
   "outputs": [],
   "source": [
    "group_id = ezomero.get_group_id(conn,'group_name')\n",
    "print(group_id)"
   ]
  },
  {
   "cell_type": "code",
   "execution_count": null,
   "metadata": {},
   "outputs": [],
   "source": [
    "user_id = ezomero.get_user_id(conn, 'user_name')\n",
    "print(user_id)"
   ]
  },
  {
   "cell_type": "markdown",
   "metadata": {},
   "source": [
    "ezomero also includes code to safely switch between OMERO groups, given a group ID you are interested in. I am adding the code here for completeness, but chances are your user does not have access to multiple groups!"
   ]
  },
  {
   "cell_type": "code",
   "execution_count": null,
   "metadata": {},
   "outputs": [],
   "source": [
    "ezomero.set_group(conn, group_id)"
   ]
  },
  {
   "cell_type": "markdown",
   "metadata": {},
   "source": [
    "This function will change the user’s current group to that specified by group_id, but only if the user is a member of that group. Note that this is a “safer” way to do this than the default `omero-py` way, which will allow switching to a group that a user does not have permissions, which can lead to server-side errors."
   ]
  },
  {
   "cell_type": "markdown",
   "metadata": {},
   "source": [
    "Don't forget to close your connection!"
   ]
  },
  {
   "cell_type": "code",
   "execution_count": null,
   "metadata": {},
   "outputs": [],
   "source": [
    "conn.close()"
   ]
  }
 ],
 "metadata": {
  "kernelspec": {
   "display_name": "Python 3",
   "language": "python",
   "name": "python3"
  },
  "language_info": {
   "codemirror_mode": {
    "name": "ipython",
    "version": 3
   },
   "file_extension": ".py",
   "mimetype": "text/x-python",
   "name": "python",
   "nbconvert_exporter": "python",
   "pygments_lexer": "ipython3",
   "version": "3.6.12"
  }
 },
 "nbformat": 4,
 "nbformat_minor": 4
}
